{
 "cells": [
  {
   "cell_type": "code",
   "execution_count": 1,
   "metadata": {},
   "outputs": [
    {
     "name": "stderr",
     "output_type": "stream",
     "text": [
      "Using TensorFlow backend.\n"
     ]
    }
   ],
   "source": [
    "import csv\n",
    "import keras\n",
    "import pyspark\n",
    "import numpy as np\n",
    "from pyspark.sql import SparkSession\n",
    "from keras.preprocessing.text import Tokenizer\n",
    "#from pyspark.ml.feature import NGram\n",
    "import re\n",
    "import cPickle as pickle"
   ]
  },
  {
   "cell_type": "code",
   "execution_count": 2,
   "metadata": {},
   "outputs": [],
   "source": [
    "sc = pyspark.SparkContext(appName=\"preprocessor\")\n",
    "ss = SparkSession(sc)"
   ]
  },
  {
   "cell_type": "code",
   "execution_count": 3,
   "metadata": {},
   "outputs": [],
   "source": [
    "with open('tokenizer.pickle', 'rb') as handle:\n",
    "    t = pickle.load(handle)\n",
    "max_tweet_length = 280"
   ]
  },
  {
   "cell_type": "code",
   "execution_count": 4,
   "metadata": {},
   "outputs": [],
   "source": [
    "def get_tweets(row):\n",
    "    return row[3]\n",
    "\n",
    "def remove_urls(tweet):\n",
    "    return re.sub(r\"http\\S+\", \"\", tweet)"
   ]
  },
  {
   "cell_type": "code",
   "execution_count": 5,
   "metadata": {},
   "outputs": [],
   "source": [
    "rdd = ss.read.csv(\"Sentiment Analysis Dataset.csv\").rdd.map(list)\n",
    "header = rdd.first()\n",
    "rdd = rdd.filter(lambda line: line != header)"
   ]
  },
  {
   "cell_type": "code",
   "execution_count": 6,
   "metadata": {},
   "outputs": [
    {
     "data": {
      "text/plain": [
       "'is so sad for my APL friend.............'"
      ]
     },
     "execution_count": 6,
     "metadata": {},
     "output_type": "execute_result"
    }
   ],
   "source": [
    "# rdd.take(5)\n",
    "\n",
    "tweets_rdd = rdd.map(lambda line: get_tweets(line).encode('utf-8'))\n",
    "tweets_rdd = tweets_rdd.map(lambda line: remove_urls(line).lstrip(' '))\n",
    "tweets_rdd.first()"
   ]
  },
  {
   "cell_type": "code",
   "execution_count": 7,
   "metadata": {},
   "outputs": [],
   "source": [
    "vocab_size = len(t.word_index) \n",
    "digits_rdd = tweets_rdd.map(lambda line: t.texts_to_sequences([line]))\n"
   ]
  },
  {
   "cell_type": "code",
   "execution_count": 8,
   "metadata": {},
   "outputs": [
    {
     "data": {
      "text/plain": [
       "[[8, 15, 108, 11, 5, 141442, 258]]"
      ]
     },
     "execution_count": 8,
     "metadata": {},
     "output_type": "execute_result"
    }
   ],
   "source": [
    "digits_rdd.first()"
   ]
  },
  {
   "cell_type": "code",
   "execution_count": 9,
   "metadata": {},
   "outputs": [],
   "source": [
    "def pad(seq):\n",
    "    return pad_sequences(seq, maxlen=max_tweet_length, padding='post')\n",
    "\n",
    "padded_rdd = digits_rdd.map(lambda line: pad(line))"
   ]
  },
  {
   "cell_type": "code",
   "execution_count": null,
   "metadata": {},
   "outputs": [],
   "source": [
    "\n",
    "\n",
    "\n",
    "ss.stop()\n",
    "    "
   ]
  },
  {
   "cell_type": "code",
   "execution_count": null,
   "metadata": {},
   "outputs": [],
   "source": [
    "# tweets_DF = rdd.filter(lambda row : row != header).toDF(header)\n",
    "\n",
    "\n",
    "\n",
    "\n",
    "\n",
    "# tweets_list = rdd.collect()\n",
    "# t.fit_on_texts(tweets_list)\n",
    "# print(tweets_list[0])\n",
    "#digits_rdd = tweets_rdd.map(lambda line: t.fit_on_texts(line))\n",
    "\n",
    "# digits_rdd = tweets_rdd.map(lambda line: t.text_to_word_sequence(line))\n",
    "# vocab_size = len(t.word_index) + 1\n",
    "# digits_rdd = tweets_rdd.map(lambda line: t.text_to_word_sequence(line))\n",
    "# digits_rdd.take(5)"
   ]
  }
 ],
 "metadata": {
  "kernelspec": {
   "display_name": "Python 2",
   "language": "python",
   "name": "python2"
  },
  "language_info": {
   "codemirror_mode": {
    "name": "ipython",
    "version": 2
   },
   "file_extension": ".py",
   "mimetype": "text/x-python",
   "name": "python",
   "nbconvert_exporter": "python",
   "pygments_lexer": "ipython2",
   "version": "2.7.12"
  }
 },
 "nbformat": 4,
 "nbformat_minor": 2
}
